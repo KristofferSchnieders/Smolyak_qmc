{
 "cells": [
  {
   "cell_type": "markdown",
   "metadata": {},
   "source": [
    "# View\n",
    "\n",
    "This notebook provides the possibility to use the methodes implemented by entering a function and a degree of approximation. Regarding  the quadrature the option\n",
    "\n",
    "* Newton-Cotes, \n",
    "* Trapezoidal, \n",
    "* Monte-Carlo (nested and not nested) and \n",
    "* Quasi-Monte Carlo \n",
    "\n",
    "exist. An other way is calling the View function."
   ]
  },
  {
   "cell_type": "code",
   "execution_count": 5,
   "metadata": {},
   "outputs": [],
   "source": [
    "# The packages needed here are Tkinter, because the View is implemented using it \n",
    "# and of course the packages of the projekt \n",
    "import tkinter as tk\n",
    "\n",
    "import os\n",
    "os.chdir(\"..\")\n",
    "import Methodes.Smolyak_one as Smolyak_one"
   ]
  },
  {
   "cell_type": "markdown",
   "metadata": {},
   "source": [
    "With this code the view of the project can be called. The view can be used by following these steps. \n",
    "    \n",
    "1.) Write a function that should be approximated (text box in the top). \n",
    "\n",
    "2.) Wrint the variables of the function to prevent confusion (text box below the first text box)\n",
    "\n",
    "3.) Choose a degree of application. (text box in the lower middle)\n",
    "\n",
    "4.) Choose quadrature. (dropdown menu on the lower right side)"
   ]
  },
  {
   "cell_type": "code",
   "execution_count": 6,
   "metadata": {},
   "outputs": [],
   "source": [
    "Smolyak_one.View()"
   ]
  },
  {
   "cell_type": "markdown",
   "metadata": {},
   "source": [
    "## Overview over methods defined for project"
   ]
  },
  {
   "cell_type": "markdown",
   "metadata": {},
   "source": [
    "Furthermore, an overview should be given over the methods defined in the project. These methods are  written in alphabetic order."
   ]
  },
  {
   "cell_type": "code",
   "execution_count": 7,
   "metadata": {},
   "outputs": [
    {
     "name": "stdout",
     "output_type": "stream",
     "text": [
      "\u001b[1mcalculate_stat_data\n",
      "\n",
      "\u001b[1mcontroller_smolyak\n",
      "\n",
      "\u001b[1mcost_smolyak\n",
      "\n",
      "\u001b[1mepsilon_cost\n",
      "\n",
      "\u001b[1merror_smolyak\n",
      "\n",
      "\u001b[1mfast_eps_cost\n",
      "\n",
      "\u001b[1mfind_all_sensible_combinations\n",
      "\n",
      "\u001b[1mfind_next_tuples_index\n",
      "\n",
      "\u001b[1mfind_right_position\n",
      "\n",
      "\u001b[1mimplicit_multiplication\n",
      "\n",
      "\u001b[1mload_stat_data\n",
      "\n",
      "\u001b[1mmodified_scatter_plot\n",
      "\n",
      "\u001b[1mmonte_carlo_quad\n",
      "\n",
      "\u001b[1mnewton_cotes\n",
      "\n",
      "\u001b[1mnext_step\n",
      "\n",
      "\u001b[1mone_dim_newton_cotes\n",
      "\n",
      "\u001b[1mone_dim_trapezoidal\n",
      "\n",
      "\u001b[1mqmc_quad\n",
      "\n",
      "\u001b[1mrewrite_function\n",
      "\n",
      "\u001b[1mslice_find\n",
      "\n",
      "\u001b[1msmolyak\n",
      "\n",
      "\u001b[1msort_tuples\n",
      "\n",
      "\u001b[1mstandard_transformations\n",
      "\n",
      "\u001b[1msum_tuple_shape\n",
      "\n",
      "\u001b[0m\n"
     ]
    }
   ],
   "source": [
    "def write_functions(): \n",
    "    functions= [function for function in  dir(Smolyak_one) if \n",
    "                ((not function.startswith('__') and function.find(\"_\") > 0 and function != \"parse_expr\") or function == 'smolyak')]\n",
    "    for k_1 in range(len(functions)):\n",
    "        print('\\033[1m'+functions[k_1])\n",
    "        print(\"\")\n",
    "    print('\\033[0m')\n",
    "write_functions()\n"
   ]
  },
  {
   "cell_type": "code",
   "execution_count": null,
   "metadata": {},
   "outputs": [],
   "source": []
  },
  {
   "cell_type": "code",
   "execution_count": null,
   "metadata": {},
   "outputs": [],
   "source": []
  }
 ],
 "metadata": {
  "kernelspec": {
   "display_name": "Python 3",
   "language": "python",
   "name": "python3"
  },
  "language_info": {
   "codemirror_mode": {
    "name": "ipython",
    "version": 3
   },
   "file_extension": ".py",
   "mimetype": "text/x-python",
   "name": "python",
   "nbconvert_exporter": "python",
   "pygments_lexer": "ipython3",
   "version": "3.8.6"
  }
 },
 "nbformat": 4,
 "nbformat_minor": 4
}

{
 "cells": [
  {
   "cell_type": "markdown",
   "metadata": {},
   "source": [
    "# Example 15.2.6: Periodic Functions\n",
    "This is an easy example of a function fulfilling those conditions that make it possible to apply the results of example 15.2.6.\n",
    "\n",
    "In example 15.2.6. in one dimension it is assumed that you have a r-times continuously differnetiable function with period $\\beta$. Then the norm of this space $F_1 = \\tilde{C}^{r}([0,\\beta])$ could be written as $$||f||_{F_1}=|f(0)| + \\max_{t\\in [0,\\beta]}|f^{(r)}(t)|$$.\n",
    "\n",
    "If we now assume $f^{(i)}(0)=f^{(i)}(\\beta)=0$ for all $i \\in 1, 2, \\dots, r$, we have for the d dimensional case $$||f||_{F_d}=\\max_{t\\in [0,\\beta]^{d}}|f^{(r,r,\\dots,r)}(t)|$$. \n",
    "\n",
    "Using the information $N_i (f) = [f(\\frac{\\beta}{m_i+1}), f(\\frac{2\\cdot \\beta}{m_i+1}), \\dots, f(\\frac{m_i\\cdot \\beta}{m_i+1})]$ we use the algorithm \n",
    "$$\n",
    "U_i (f) = \\frac{\\beta}{m_i}\\sum^{m_i}_{j_1} f\\left(\\frac{j\\beta}{m_1 +1}\\right)\n",
    "$$\n",
    "to approximate the integral. This coincides with the open Newton-Cotes formula. The rest of the proberties of the approximation are explained afterwards. \n",
    "\n",
    "The one dimensional function we chose is \n",
    "$$\n",
    "f(x)=2 \\cdot \\sin^2(2\\pi \\cdot x), \n",
    "$$\n",
    "which especially is in $\\tilde{C}^1([0,1])$, with $f(0)=f(1)=1.$ The result of the integral $\\int_{[0,1]^{d}}\\prod^{d}_{k=1} 2 \\cdot \\sin^2(2\\pi \\cdot x_k)d\\vec{x} $ could be determined analytically to be 1 for all $d \\in \\mathbb{N}$. "
   ]
  },
  {
   "cell_type": "code",
   "execution_count": 39,
   "metadata": {},
   "outputs": [],
   "source": [
    "import os\n",
    "os.chdir(\"..\")\n",
    "\n",
    "\n",
    "import Methodes_Studienproject.Studienprojekt_Smolyak_qmc_one_point as Studieproject_one\n",
    "import matplotlib.pyplot as plt\n",
    "import pandas as bearcats\n",
    "import scipy \n",
    "import sympy as sp\n",
    "import numpy as np\n",
    "import itertools as itt\n",
    "import math \n",
    "from sklearn import datasets, linear_model"
   ]
  },
  {
   "cell_type": "markdown",
   "metadata": {},
   "source": [
    "#### An illsutration of the pronciple of approximation is given in the figures below for the dimension 2"
   ]
  },
  {
   "cell_type": "markdown",
   "metadata": {},
   "source": [
    "First we show the calculate the approximation of $R_{\\mu_1}(x,t)$ and the approximation given on page 358."
   ]
  },
  {
   "cell_type": "code",
   "execution_count": 19,
   "metadata": {},
   "outputs": [
    {
     "data": {
      "text/latex": [
       "$\\displaystyle \\epsilon$: $ \\frac{1}{8}$"
      ],
      "text/plain": [
       "<IPython.core.display.Math object>"
      ]
     },
     "metadata": {},
     "output_type": "display_data"
    },
    {
     "data": {
      "text/latex": [
       "$\\displaystyle cost(A_{\\epsilon}(d))$: $0.4141$"
      ],
      "text/plain": [
       "<IPython.core.display.Math object>"
      ]
     },
     "metadata": {},
     "output_type": "display_data"
    },
    {
     "name": "stdout",
     "output_type": "stream",
     "text": [
      "\n"
     ]
    },
    {
     "data": {
      "text/latex": [
       "$\\displaystyle \\alpha$: $1.0$"
      ],
      "text/plain": [
       "<IPython.core.display.Math object>"
      ]
     },
     "metadata": {},
     "output_type": "display_data"
    },
    {
     "name": "stdout",
     "output_type": "stream",
     "text": [
      "\n"
     ]
    },
    {
     "data": {
      "text/latex": [
       "$\\displaystyle \\alpha_0$: $3.3902$"
      ],
      "text/plain": [
       "<IPython.core.display.Math object>"
      ]
     },
     "metadata": {},
     "output_type": "display_data"
    },
    {
     "name": "stdout",
     "output_type": "stream",
     "text": [
      "\n"
     ]
    },
    {
     "data": {
      "text/latex": [
       "$\\displaystyle \\alpha_1$: $-0.5762$"
      ],
      "text/plain": [
       "<IPython.core.display.Math object>"
      ]
     },
     "metadata": {},
     "output_type": "display_data"
    },
    {
     "name": "stdout",
     "output_type": "stream",
     "text": [
      "\n"
     ]
    },
    {
     "data": {
      "text/latex": [
       "$\\displaystyle \\alpha_2$: $2.7098$"
      ],
      "text/plain": [
       "<IPython.core.display.Math object>"
      ]
     },
     "metadata": {},
     "output_type": "display_data"
    },
    {
     "name": "stdout",
     "output_type": "stream",
     "text": [
      "\n"
     ]
    },
    {
     "data": {
      "text/latex": [
       "$\\displaystyle \\alpha_3$: $1.5$"
      ],
      "text/plain": [
       "<IPython.core.display.Math object>"
      ]
     },
     "metadata": {},
     "output_type": "display_data"
    },
    {
     "name": "stdout",
     "output_type": "stream",
     "text": [
      "\n"
     ]
    }
   ],
   "source": [
    "from IPython.display import display, Math\n",
    "\n",
    "# other properties of the example\n",
    "r = 0\n",
    "beta = 1\n",
    "q = 2\n",
    "dim = 2\n",
    "m_i = 2 ** q - 1\n",
    "\n",
    "# Specific error properties of periodic functions of this kind \n",
    "C_r = np.sqrt(abs(scipy.special.bernoulli(2+2*r)[-1])/math.factorial(2*r+2))\n",
    "e_one_a =  C_r * beta ** ((2*r+3)/2)  \n",
    "e_one_b = 2 ** (-(r + 1))\n",
    "\n",
    "# Cost and error esimation for the one dimensional error\n",
    "B, C, D, F_0, F = [e_one_a, e_one_a, e_one_b, 1, 2]\n",
    "\n",
    "# calculation of the approximation and the error and cost estimation \n",
    "# of the example \n",
    "option = \"Trapezoidal\"\n",
    "deg_approx = 18\n",
    "def max_fun(x, t):\n",
    "# implementation of the function given on page 358 for input like used in \n",
    "# implementation of algorithm.\n",
    "    return np.min(np.array([x,t]), axis=0)\n",
    "\n",
    "variables = []\n",
    "for f in range(dim):\n",
    "    variables.append(sp.Symbol(\"x_\" + str(f)))\n",
    "\n",
    "result_max_fun = np.empty((deg_approx,2))\n",
    "cost_and_err_estim = np.empty((20,2))\n",
    "for eps_ind, epsilon in enumerate([(1/2) ** (i+3) for i in range(20)]):\n",
    "    cost_and_err_estim[eps_ind,:] = Studieproject_one.fast_eps_cost(dim, B, C, D, F_0, F, epsilon)[0::6]\n",
    "for q in range(dim, dim + deg_approx):\n",
    "    result_max_fun[q-2, :] = Studieproject_one.controller_smolyak(max_fun, variables, option, q, function_given=True, no_error=True, example_2=True)[0:3:2]\n",
    "\n",
    "# In the end  we want to verify, that the function calculating the \n",
    "# estimation works properly.\n",
    "estim_cost_error =Studieproject_one.fast_eps_cost(dim, B, C, D, F_0, F, 1/8)\n",
    "meaning =[r\"cost(A_{\\epsilon}(d))\", r\"\\alpha\", r\"\\alpha_0\", r\"\\alpha_1\", r\"\\alpha_2\", r\"\\alpha_3\"]\n",
    "\n",
    "display(Math(r\"\\epsilon\"+r\"$: $ \\frac{1}{8}\"))\n",
    "for index, var in enumerate(meaning):\n",
    "    display(Math(var+\"$: $\" +str(round(estim_cost_error[index],4))))\n",
    "    print(\"\")"
   ]
  },
  {
   "cell_type": "code",
   "execution_count": 50,
   "metadata": {},
   "outputs": [
    {
     "data": {
      "image/png": "[encoded data removed]",
      "text/plain": [
       "<Figure size 1080x432 with 1 Axes>"
      ]
     },
     "metadata": {
      "needs_background": "light"
     },
     "output_type": "display_data"
    }
   ],
   "source": [
    "fig = plt.figure(figsize=(15,6))\n",
    "plt.plot( abs(result_max_fun[:,0]-1/3)**(-1), result_max_fun[:,1], color=\"red\", label= \"calculations\")\n",
    "regression_data_x = [[k_1] for k_1 in np.log(abs(result_max_fun[-5:,0]-1/3)**(-1))]\n",
    "regression_data_y = [math.log2(k_1) for k_1 in np.log(result_max_fun[-5:,1])]\n",
    "regr = linear_model.LinearRegression()\n",
    "regr.fit(regression_data_x , regression_data_y)\n",
    "regr.score(regression_data_x , regression_data_y)\n",
    "exponent = regr.coef_\n",
    "        \n",
    "regression_y = [regr.intercept_ + exponent*x for x in np.linspace(1,10**7,30)]\n",
    "plt.plot([k for k in np.linspace(1,10**7,30)],regression_y, \"k:\")\n",
    "\n",
    "plt.plot()\n",
    "\n",
    "plt.plot( [(2) ** (i+3) for i in range(20)], cost_and_err_estim[:,0], color=\"blue\", linestyle=\"--\",label=\"cost($A_{\\epsilon}(2)$)\")\n",
    "plt.yscale(\"log\")\n",
    "plt.xscale(\"log\")\n",
    "plt.grid(axis=\"both\")\n",
    "plt.legend(fontsize=12, loc=4)\n",
    "plt.ylabel(\"Cost\", fontsize = 14,fontweight = \"bold\")\n",
    "plt.xlabel(r\"Error$^{-1}$\",fontsize = 14,fontweight = \"bold\")\n",
    "plt.yticks(fontsize=16,fontweight=\"bold\")\n",
    "plt.xticks(fontsize=16,fontweight=\"bold\")\n",
    "plt.title(\"Comparison of estimated and real error\",\n",
    "          fontsize = 20, fontweight = \"bold\")     \n",
    "plt.show()"
   ]
  },
  {
   "cell_type": "markdown",
   "metadata": {},
   "source": [
    "The first  point could not be taken to seriously, because the cost here for the error "
   ]
  },
  {
   "cell_type": "code",
   "execution_count": 27,
   "metadata": {},
   "outputs": [],
   "source": [
    "a = Studieproject_one.controller_smolyak(brownian_bridge, variables, option, q, function_given=True, no_error=True, example_2=True)"
   ]
  },
  {
   "cell_type": "code",
   "execution_count": 37,
   "metadata": {},
   "outputs": [
    {
     "data": {
      "text/plain": [
       "array([ 6.000e+00, -1.801e+16,  1.260e+02, ..., -1.308e+05, -2.619e+05,\n",
       "       -4.490e+05])"
      ]
     },
     "execution_count": 37,
     "metadata": {},
     "output_type": "execute_result"
    }
   ],
   "source": [
    "(result_max_fun[:,0]-1/3)**(-1)"
   ]
  },
  {
   "cell_type": "code",
   "execution_count": null,
   "metadata": {},
   "outputs": [],
   "source": []
  }
 ],
 "metadata": {
  "kernelspec": {
   "display_name": "Python 3",
   "language": "python",
   "name": "python3"
  },
  "language_info": {
   "codemirror_mode": {
    "name": "ipython",
    "version": 3
   },
   "file_extension": ".py",
   "mimetype": "text/x-python",
   "name": "python",
   "nbconvert_exporter": "python",
   "pygments_lexer": "ipython3",
   "version": "3.8.6"
  }
 },
 "nbformat": 4,
 "nbformat_minor": 4
}

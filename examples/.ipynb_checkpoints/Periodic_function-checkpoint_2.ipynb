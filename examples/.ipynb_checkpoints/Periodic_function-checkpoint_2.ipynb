{
 "cells": [
  {
   "cell_type": "markdown",
   "metadata": {},
   "source": [
    "# Example 15.2.6: Periodic Functions\n",
    "This is an easy example of a function fulfilling those conditions that make it possible to apply the results of example 15.2.6.\n",
    "\n",
    "In example 15.2.6. in one dimension it is assumed that you have a r-times continuously differnetiable function with period $\\beta$. Then the norm of this space $F_1 = \\tilde{C}^{r}([0,\\beta])$ could be written as $$||f||_{F_1}=|f(0)| + \\max_{t\\in [0,\\beta]}|f^{(r)}(t)|$$.\n",
    "\n",
    "If we now assume $f^{(i)}(0)=f^{(i)}(\\beta)=0$ for all $i \\in 1, 2, \\dots, r$, we have for the d dimensional case $$||f||_{F_d}=\\max_{t\\in [0,\\beta]^{d}}|f^{(r,r,\\dots,r)}(t)|$$. \n",
    "\n",
    "Using the information $N_i (f) = [f(\\frac{\\beta}{m_i+1}), f(\\frac{2\\cdot \\beta}{m_i+1}), \\dots, f(\\frac{m_i\\cdot \\beta}{m_i+1})]$ we use the algorithm \n",
    "$$\n",
    "U_i (f) = \\frac{\\beta}{m_i}\\sum^{m_i}_{j_1} f\\left(\\frac{j\\beta}{m_1 +1}\\right)\n",
    "$$\n",
    "to approximate the integral. This coincides with the open Newton-Cotes formula. The rest of the proberties of the approximation are explained afterwards. \n",
    "\n",
    "The one dimensional function we chose is \n",
    "$$\n",
    "f(x)=2 \\cdot \\sin^2(2\\pi \\cdot x), \n",
    "$$\n",
    "which especially is in $\\tilde{C}^1([0,1])$, with $f(0)=f(1)=1.$ The result of the integral $\\int_{[0,1]^{d}}\\prod^{d}_{k=1} 2 \\cdot \\sin^2(2\\pi \\cdot x_k)d\\vec{x} $ could be determined analytically to be 1 for all $d \\in \\mathbb{N}$. "
   ]
  },
  {
   "cell_type": "code",
   "execution_count": 67,
   "metadata": {},
   "outputs": [],
   "source": [
    "import os\n",
    "os.chdir(\"..\")\n",
    "\n",
    "\n",
    "import Methodes_Studienproject.Studienprojekt_Smolyak_qmc_one_point as Studieproject_one\n",
    "import matplotlib.pyplot as plt\n",
    "import pandas as bearcats\n",
    "import sympy as sp\n",
    "import numpy as np\n",
    "import itertools as itt\n"
   ]
  },
  {
   "cell_type": "code",
   "execution_count": 73,
   "metadata": {},
   "outputs": [
    {
     "ename": "KeyboardInterrupt",
     "evalue": "",
     "output_type": "error",
     "traceback": [
      "\u001b[0;31m---------------------------------------------------------------------------\u001b[0m",
      "\u001b[0;31mKeyboardInterrupt\u001b[0m                         Traceback (most recent call last)",
      "\u001b[0;32m<ipython-input-73-694399a99178>\u001b[0m in \u001b[0;36m<module>\u001b[0;34m\u001b[0m\n\u001b[1;32m     13\u001b[0m \u001b[0;34m\u001b[0m\u001b[0m\n\u001b[1;32m     14\u001b[0m     \u001b[0;32mfor\u001b[0m \u001b[0mq\u001b[0m \u001b[0;32min\u001b[0m \u001b[0mrange\u001b[0m\u001b[0;34m(\u001b[0m\u001b[0mdim\u001b[0m\u001b[0;34m,\u001b[0m\u001b[0mdim\u001b[0m\u001b[0;34m+\u001b[0m\u001b[0mdeg_approx\u001b[0m\u001b[0;34m)\u001b[0m\u001b[0;34m:\u001b[0m\u001b[0;34m\u001b[0m\u001b[0;34m\u001b[0m\u001b[0m\n\u001b[0;32m---> 15\u001b[0;31m         \u001b[0mresults_example_2\u001b[0m\u001b[0;34m[\u001b[0m\u001b[0mdim\u001b[0m\u001b[0;34m-\u001b[0m\u001b[0;36m2\u001b[0m\u001b[0;34m,\u001b[0m \u001b[0mq\u001b[0m \u001b[0;34m-\u001b[0m \u001b[0mdim\u001b[0m\u001b[0;34m,\u001b[0m \u001b[0;34m:\u001b[0m\u001b[0;34m]\u001b[0m \u001b[0;34m=\u001b[0m \u001b[0mStudieproject_one\u001b[0m\u001b[0;34m.\u001b[0m\u001b[0mcontroller_smolyak\u001b[0m\u001b[0;34m(\u001b[0m\u001b[0mfunctions\u001b[0m\u001b[0;34m[\u001b[0m\u001b[0;34m-\u001b[0m\u001b[0;36m1\u001b[0m\u001b[0;34m]\u001b[0m\u001b[0;34m,\u001b[0m \u001b[0mvariables\u001b[0m\u001b[0;34m[\u001b[0m\u001b[0;34m-\u001b[0m\u001b[0;36m1\u001b[0m\u001b[0;34m]\u001b[0m\u001b[0;34m,\u001b[0m \u001b[0moption\u001b[0m\u001b[0;34m,\u001b[0m \u001b[0mq\u001b[0m\u001b[0;34m,\u001b[0m \u001b[0mexample_2\u001b[0m\u001b[0;34m=\u001b[0m\u001b[0;32mTrue\u001b[0m\u001b[0;34m)\u001b[0m\u001b[0;34m\u001b[0m\u001b[0;34m\u001b[0m\u001b[0m\n\u001b[0m\u001b[1;32m     16\u001b[0m \u001b[0;34m\u001b[0m\u001b[0m\n\u001b[1;32m     17\u001b[0m \u001b[0;34m\u001b[0m\u001b[0m\n",
      "\u001b[0;32m~/COMP167/Smolyak_qmc/Methodes_Studienproject/Studienprojekt_Smolyak_qmc_one_point.py\u001b[0m in \u001b[0;36mcontroller_smolyak\u001b[0;34m(function_string_control, variables_string_control, quadrature, q, no_error, function_given, example_2, a, b, is_nested)\u001b[0m\n\u001b[1;32m   1012\u001b[0m             \u001b[0mlist_of_weights\u001b[0m\u001b[0;34m.\u001b[0m\u001b[0mappend\u001b[0m\u001b[0;34m(\u001b[0m\u001b[0mweights\u001b[0m\u001b[0;34m)\u001b[0m\u001b[0;34m\u001b[0m\u001b[0;34m\u001b[0m\u001b[0m\n\u001b[1;32m   1013\u001b[0m \u001b[0;34m\u001b[0m\u001b[0m\n\u001b[0;32m-> 1014\u001b[0;31m         \u001b[0mSmolyak_result\u001b[0m \u001b[0;34m=\u001b[0m \u001b[0msmolyak\u001b[0m\u001b[0;34m(\u001b[0m\u001b[0mf\u001b[0m\u001b[0;34m,\u001b[0m \u001b[0mlist_of_weights\u001b[0m\u001b[0;34m,\u001b[0m \u001b[0mlist_of_points\u001b[0m\u001b[0;34m,\u001b[0m \u001b[0mq\u001b[0m\u001b[0;34m,\u001b[0m \u001b[0mdim\u001b[0m\u001b[0;34m,\u001b[0m \u001b[0mquadrature\u001b[0m\u001b[0;34m=\u001b[0m\u001b[0;34m\"Quasi-Monte Carlo\"\u001b[0m\u001b[0;34m)\u001b[0m\u001b[0;34m\u001b[0m\u001b[0;34m\u001b[0m\u001b[0m\n\u001b[0m\u001b[1;32m   1015\u001b[0m \u001b[0;34m\u001b[0m\u001b[0m\n\u001b[1;32m   1016\u001b[0m     \u001b[0;32melse\u001b[0m\u001b[0;34m:\u001b[0m\u001b[0;34m\u001b[0m\u001b[0;34m\u001b[0m\u001b[0m\n",
      "\u001b[0;32m~/COMP167/Smolyak_qmc/Methodes_Studienproject/Studienprojekt_Smolyak_qmc_one_point.py\u001b[0m in \u001b[0;36msmolyak\u001b[0;34m(f, weights, points, q, dim, is_nested, quadrature, example_2)\u001b[0m\n\u001b[1;32m    286\u001b[0m             \u001b[0;31m# meshgrid yields a np.array with all coordinates needed for alg\u001b[0m\u001b[0;34m\u001b[0m\u001b[0;34m\u001b[0m\u001b[0;34m\u001b[0m\u001b[0m\n\u001b[1;32m    287\u001b[0m             \u001b[0;31m# coordinate and respective weight could be found in the same places in the array\u001b[0m\u001b[0;34m\u001b[0m\u001b[0;34m\u001b[0m\u001b[0;34m\u001b[0m\u001b[0m\n\u001b[0;32m--> 288\u001b[0;31m             \u001b[0mmeshgrid_points\u001b[0m \u001b[0;34m=\u001b[0m \u001b[0mnp\u001b[0m\u001b[0;34m.\u001b[0m\u001b[0marray\u001b[0m\u001b[0;34m(\u001b[0m\u001b[0mnp\u001b[0m\u001b[0;34m.\u001b[0m\u001b[0mmeshgrid\u001b[0m\u001b[0;34m(\u001b[0m\u001b[0;34m*\u001b[0m\u001b[0mcurrent_points\u001b[0m\u001b[0;34m)\u001b[0m\u001b[0;34m)\u001b[0m\u001b[0;34m\u001b[0m\u001b[0;34m\u001b[0m\u001b[0m\n\u001b[0m\u001b[1;32m    289\u001b[0m             \u001b[0mmeshgrid_weights\u001b[0m \u001b[0;34m=\u001b[0m \u001b[0mnp\u001b[0m\u001b[0;34m.\u001b[0m\u001b[0marray\u001b[0m\u001b[0;34m(\u001b[0m\u001b[0mnp\u001b[0m\u001b[0;34m.\u001b[0m\u001b[0mmeshgrid\u001b[0m\u001b[0;34m(\u001b[0m\u001b[0;34m*\u001b[0m\u001b[0mcurrent_weights\u001b[0m\u001b[0;34m)\u001b[0m\u001b[0;34m)\u001b[0m\u001b[0;34m\u001b[0m\u001b[0;34m\u001b[0m\u001b[0m\n\u001b[1;32m    290\u001b[0m \u001b[0;34m\u001b[0m\u001b[0m\n",
      "\u001b[0;32m<__array_function__ internals>\u001b[0m in \u001b[0;36mmeshgrid\u001b[0;34m(*args, **kwargs)\u001b[0m\n",
      "\u001b[0;32m~/.local/lib/python3.8/site-packages/numpy/lib/function_base.py\u001b[0m in \u001b[0;36mmeshgrid\u001b[0;34m(copy, sparse, indexing, *xi)\u001b[0m\n\u001b[1;32m   4222\u001b[0m     \u001b[0;32mif\u001b[0m \u001b[0;32mnot\u001b[0m \u001b[0msparse\u001b[0m\u001b[0;34m:\u001b[0m\u001b[0;34m\u001b[0m\u001b[0;34m\u001b[0m\u001b[0m\n\u001b[1;32m   4223\u001b[0m         \u001b[0;31m# Return the full N-D matrix (not only the 1-D vector)\u001b[0m\u001b[0;34m\u001b[0m\u001b[0;34m\u001b[0m\u001b[0;34m\u001b[0m\u001b[0m\n\u001b[0;32m-> 4224\u001b[0;31m         \u001b[0moutput\u001b[0m \u001b[0;34m=\u001b[0m \u001b[0mnp\u001b[0m\u001b[0;34m.\u001b[0m\u001b[0mbroadcast_arrays\u001b[0m\u001b[0;34m(\u001b[0m\u001b[0;34m*\u001b[0m\u001b[0moutput\u001b[0m\u001b[0;34m,\u001b[0m \u001b[0msubok\u001b[0m\u001b[0;34m=\u001b[0m\u001b[0;32mTrue\u001b[0m\u001b[0;34m)\u001b[0m\u001b[0;34m\u001b[0m\u001b[0;34m\u001b[0m\u001b[0m\n\u001b[0m\u001b[1;32m   4225\u001b[0m \u001b[0;34m\u001b[0m\u001b[0m\n\u001b[1;32m   4226\u001b[0m     \u001b[0;32mif\u001b[0m \u001b[0mcopy\u001b[0m\u001b[0;34m:\u001b[0m\u001b[0;34m\u001b[0m\u001b[0;34m\u001b[0m\u001b[0m\n",
      "\u001b[0;32m<__array_function__ internals>\u001b[0m in \u001b[0;36mbroadcast_arrays\u001b[0;34m(*args, **kwargs)\u001b[0m\n",
      "\u001b[0;32m~/.local/lib/python3.8/site-packages/numpy/lib/stride_tricks.py\u001b[0m in \u001b[0;36mbroadcast_arrays\u001b[0;34m(subok, *args)\u001b[0m\n\u001b[1;32m    258\u001b[0m     \u001b[0mshape\u001b[0m \u001b[0;34m=\u001b[0m \u001b[0m_broadcast_shape\u001b[0m\u001b[0;34m(\u001b[0m\u001b[0;34m*\u001b[0m\u001b[0margs\u001b[0m\u001b[0;34m)\u001b[0m\u001b[0;34m\u001b[0m\u001b[0;34m\u001b[0m\u001b[0m\n\u001b[1;32m    259\u001b[0m \u001b[0;34m\u001b[0m\u001b[0m\n\u001b[0;32m--> 260\u001b[0;31m     \u001b[0;32mif\u001b[0m \u001b[0mall\u001b[0m\u001b[0;34m(\u001b[0m\u001b[0marray\u001b[0m\u001b[0;34m.\u001b[0m\u001b[0mshape\u001b[0m \u001b[0;34m==\u001b[0m \u001b[0mshape\u001b[0m \u001b[0;32mfor\u001b[0m \u001b[0marray\u001b[0m \u001b[0;32min\u001b[0m \u001b[0margs\u001b[0m\u001b[0;34m)\u001b[0m\u001b[0;34m:\u001b[0m\u001b[0;34m\u001b[0m\u001b[0;34m\u001b[0m\u001b[0m\n\u001b[0m\u001b[1;32m    261\u001b[0m         \u001b[0;31m# Common case where nothing needs to be broadcasted.\u001b[0m\u001b[0;34m\u001b[0m\u001b[0;34m\u001b[0m\u001b[0;34m\u001b[0m\u001b[0m\n\u001b[1;32m    262\u001b[0m         \u001b[0;32mreturn\u001b[0m \u001b[0margs\u001b[0m\u001b[0;34m\u001b[0m\u001b[0;34m\u001b[0m\u001b[0m\n",
      "\u001b[0;31mKeyboardInterrupt\u001b[0m: "
     ]
    }
   ],
   "source": []
  },
  {
   "cell_type": "markdown",
   "metadata": {},
   "source": [
    "#### An illsutration of the pronciple of approximation is given in the figures below for the dimension 2"
   ]
  },
  {
   "cell_type": "code",
   "execution_count": 71,
   "metadata": {},
   "outputs": [
    {
     "data": {
      "text/plain": [
       "array([[[2.546e+00, 7.617e+00, 3.200e+01],\n",
       "        [9.001e-01, 9.654e+00, 1.280e+02],\n",
       "        [1.548e+00, 9.844e+00, 3.840e+02],\n",
       "        ...,\n",
       "        [9.555e-01, 4.408e+00, 3.277e+04],\n",
       "        [1.004e+00, 3.494e+00, 7.373e+04],\n",
       "        [9.960e-01, 2.737e+00, 1.638e+05]],\n",
       "\n",
       "       [[2.269e+00, 7.399e+01, 1.280e+02],\n",
       "        [8.632e-04, 1.458e+02, 7.680e+02],\n",
       "        [1.360e-02, 1.993e+02, 3.072e+03],\n",
       "        ...,\n",
       "        [8.664e-01, 2.003e+02, 5.898e+05],\n",
       "        [9.080e-01, 1.763e+02, 1.475e+06],\n",
       "        [1.013e+00, 1.518e+02, 3.604e+06]],\n",
       "\n",
       "       [[2.936e-03, 1.256e+03, 5.120e+02],\n",
       "        [2.454e+00, 1.907e+03, 4.096e+03],\n",
       "        [2.408e+00, 3.995e+03, 2.048e+04],\n",
       "        ...,\n",
       "        [8.595e-01, 8.444e+02, 7.864e+06],\n",
       "        [8.511e-01, 1.800e+04, 2.163e+07],\n",
       "        [9.894e-01, 3.123e+04, 5.767e+07]]])"
      ]
     },
     "execution_count": 71,
     "metadata": {},
     "output_type": "execute_result"
    }
   ],
   "source": [
    "results_example_2"
   ]
  },
  {
   "cell_type": "markdown",
   "metadata": {},
   "source": [
    "#### The blue points coicides with the points with value 1 and the red ones with the value 0. "
   ]
  },
  {
   "cell_type": "code",
   "execution_count": 6,
   "metadata": {},
   "outputs": [
    {
     "data": {
      "text/plain": [
       "[[slice(0, 2, None), slice(0, 1, None), slice(0, 7, 2)],\n",
       " [slice(0, 1, None), slice(0, 4, None)],\n",
       " [slice(0, 2, None), slice(0, 1, None), slice(0, 7, 2)]]"
      ]
     },
     "execution_count": 6,
     "metadata": {},
     "output_type": "execute_result"
    }
   ],
   "source": [
    "def slice_find(current_shape, nearest_shape, open_quad=False):\n",
    "    # Method giving returning slices that make it possible to find old evaluations can be used\n",
    "    # for the calculation of the current summand and the points for that further evaluation are needed.\n",
    "    # Input: shape/ dimension of the \"nearest\" and current points/evaluation\n",
    "    # Output: position of further evaluations needed and position of evaluation already used.\n",
    "    positions_old_evals = []\n",
    "    positions_needed_evals = [slice(0, len(nearest_shape))]\n",
    "    position_weights_of_saved_evals = [slice(0, len(nearest_shape))]\n",
    "    for tuple_dim in range(len(current_shape)):\n",
    "        # Exceptions to use one point for q = 1.\n",
    "        if current_shape[tuple_dim] == 3 and nearest_shape[tuple_dim] == 1:\n",
    "            positions_old_evals.append(slice(0, 1))\n",
    "            positions_needed_evals.append(slice(0, 3, 2))\n",
    "            position_weights_of_saved_evals.append(slice(1, 2))\n",
    "        elif current_shape[tuple_dim] == 1 and nearest_shape[tuple_dim] == 3:\n",
    "            positions_old_evals.append(slice(1, 2))\n",
    "            positions_needed_evals.append(slice(0, 1))\n",
    "            position_weights_of_saved_evals.append(slice(0, 1))\n",
    "        elif current_shape[tuple_dim] == 1 and nearest_shape[tuple_dim] == 1:\n",
    "            positions_old_evals.append(slice(0, 1))\n",
    "            positions_needed_evals.append(slice(0, 1))\n",
    "            position_weights_of_saved_evals.append(slice(0, 1))\n",
    "\n",
    "        elif current_shape[tuple_dim] == nearest_shape[tuple_dim]:\n",
    "            positions_old_evals.append(slice(0, current_shape[tuple_dim]))\n",
    "            positions_needed_evals.append(slice(0, current_shape[tuple_dim]))\n",
    "            position_weights_of_saved_evals.append(slice(0, current_shape[tuple_dim]))\n",
    "\n",
    "        elif open_quad and current_shape[tuple_dim] > 1 and nearest_shape[tuple_dim] > 1:\n",
    "            if current_shape[tuple_dim] < nearest_shape[tuple_dim] - 1:\n",
    "                positions_old_evals.append(slice(1, nearest_shape[tuple_dim], 2))\n",
    "                positions_needed_evals.append(slice(0, current_shape[tuple_dim] + 1))\n",
    "                position_weights_of_saved_evals.append(slice(0, current_shape[tuple_dim] + 1))\n",
    "\n",
    "            if current_shape[tuple_dim] > nearest_shape[tuple_dim] + 1 and nearest_shape[tuple_dim] != 1:\n",
    "                positions_old_evals.append(slice(0, nearest_shape[tuple_dim] + 1))\n",
    "                positions_needed_evals.append(slice(0, current_shape[tuple_dim], 2))\n",
    "                position_weights_of_saved_evals.append(slice(0, current_shape[tuple_dim], 2))\n",
    "\n",
    "        elif current_shape[tuple_dim] < nearest_shape[tuple_dim] - 1 and nearest_shape[tuple_dim] != 3:\n",
    "            positions_old_evals.append(slice(0, nearest_shape[tuple_dim], 2))\n",
    "            positions_needed_evals.append(slice(0, current_shape[tuple_dim] + 1))\n",
    "            position_weights_of_saved_evals.append(slice(0, current_shape[tuple_dim] + 1))\n",
    "\n",
    "        elif current_shape[tuple_dim] > nearest_shape[tuple_dim] + 1 and nearest_shape[tuple_dim] != 1:\n",
    "            positions_old_evals.append(slice(0, nearest_shape[tuple_dim] + 1))\n",
    "            positions_needed_evals.append(slice(1, current_shape[tuple_dim], 2))\n",
    "            position_weights_of_saved_evals.append(slice(0, current_shape[tuple_dim], 2))\n",
    "\n",
    "        else:\n",
    "            raise Exception(\"Error in Slice_find.\")\n",
    "\n",
    "    return [positions_needed_evals, positions_old_evals, position_weights_of_saved_evals]\n",
    "slice_find((1,7), (1,3), open_quad=True)"
   ]
  },
  {
   "cell_type": "code",
   "execution_count": 85,
   "metadata": {},
   "outputs": [
    {
     "name": "stdout",
     "output_type": "stream",
     "text": [
      "2   2\n",
      "2   3\n",
      "2   4\n",
      "2   5\n",
      "2   6\n",
      "2   7\n",
      "2   8\n",
      "2   9\n",
      "2   10\n",
      "2   11\n",
      "2   12\n",
      "2   13\n",
      "2   14\n",
      "2   15\n",
      "2   16\n",
      "2   17\n",
      "2   18\n",
      "3   3\n",
      "3   4\n",
      "3   5\n",
      "3   6\n",
      "3   7\n",
      "3   8\n",
      "3   9\n",
      "3   10\n"
     ]
    },
    {
     "ename": "KeyboardInterrupt",
     "evalue": "",
     "output_type": "error",
     "traceback": [
      "\u001b[0;31m---------------------------------------------------------------------------\u001b[0m",
      "\u001b[0;31mKeyboardInterrupt\u001b[0m                         Traceback (most recent call last)",
      "\u001b[0;32m<ipython-input-85-47c738e73e2f>\u001b[0m in \u001b[0;36m<module>\u001b[0;34m\u001b[0m\n\u001b[1;32m     16\u001b[0m     \u001b[0;32mfor\u001b[0m \u001b[0mq\u001b[0m \u001b[0;32min\u001b[0m \u001b[0mrange\u001b[0m\u001b[0;34m(\u001b[0m\u001b[0mdim\u001b[0m\u001b[0;34m,\u001b[0m\u001b[0mdim\u001b[0m\u001b[0;34m+\u001b[0m\u001b[0mdeg_approx\u001b[0m\u001b[0;34m)\u001b[0m\u001b[0;34m:\u001b[0m\u001b[0;34m\u001b[0m\u001b[0;34m\u001b[0m\u001b[0m\n\u001b[1;32m     17\u001b[0m         \u001b[0mprint\u001b[0m\u001b[0;34m(\u001b[0m\u001b[0mstr\u001b[0m\u001b[0;34m(\u001b[0m\u001b[0mdim\u001b[0m\u001b[0;34m)\u001b[0m\u001b[0;34m+\u001b[0m \u001b[0;34m\"   \"\u001b[0m \u001b[0;34m+\u001b[0m \u001b[0mstr\u001b[0m\u001b[0;34m(\u001b[0m\u001b[0mq\u001b[0m\u001b[0;34m)\u001b[0m\u001b[0;34m)\u001b[0m\u001b[0;34m\u001b[0m\u001b[0;34m\u001b[0m\u001b[0m\n\u001b[0;32m---> 18\u001b[0;31m         \u001b[0mresults_example_2\u001b[0m\u001b[0;34m[\u001b[0m\u001b[0mdim\u001b[0m\u001b[0;34m-\u001b[0m\u001b[0;36m2\u001b[0m\u001b[0;34m,\u001b[0m \u001b[0mq\u001b[0m \u001b[0;34m-\u001b[0m \u001b[0mdim\u001b[0m\u001b[0;34m,\u001b[0m \u001b[0;34m:\u001b[0m\u001b[0;34m]\u001b[0m \u001b[0;34m=\u001b[0m \u001b[0mStudieproject_one\u001b[0m\u001b[0;34m.\u001b[0m\u001b[0mcontroller_smolyak\u001b[0m\u001b[0;34m(\u001b[0m\u001b[0mfunctions\u001b[0m\u001b[0;34m[\u001b[0m\u001b[0;34m-\u001b[0m\u001b[0;36m1\u001b[0m\u001b[0;34m]\u001b[0m\u001b[0;34m,\u001b[0m \u001b[0mvariables\u001b[0m\u001b[0;34m[\u001b[0m\u001b[0;34m-\u001b[0m\u001b[0;36m1\u001b[0m\u001b[0;34m]\u001b[0m\u001b[0;34m,\u001b[0m \u001b[0moption\u001b[0m\u001b[0;34m,\u001b[0m \u001b[0mq\u001b[0m\u001b[0;34m,\u001b[0m \u001b[0mexample_2\u001b[0m\u001b[0;34m=\u001b[0m\u001b[0;32mTrue\u001b[0m\u001b[0;34m)\u001b[0m\u001b[0;34m\u001b[0m\u001b[0;34m\u001b[0m\u001b[0m\n\u001b[0m\u001b[1;32m     19\u001b[0m \u001b[0;34m\u001b[0m\u001b[0m\n\u001b[1;32m     20\u001b[0m \u001b[0;34m\u001b[0m\u001b[0m\n",
      "\u001b[0;32m~/COMP167/Smolyak_qmc/Methodes_Studienproject/Studienprojekt_Smolyak_qmc_one_point.py\u001b[0m in \u001b[0;36mcontroller_smolyak\u001b[0;34m(function_string_control, variables_string_control, quadrature, q, no_error, function_given, example_2, a, b, is_nested)\u001b[0m\n\u001b[1;32m   1021\u001b[0m     \u001b[0;31m# can turn of the calculation of the error.\u001b[0m\u001b[0;34m\u001b[0m\u001b[0;34m\u001b[0m\u001b[0;34m\u001b[0m\u001b[0m\n\u001b[1;32m   1022\u001b[0m     \u001b[0;32mif\u001b[0m \u001b[0;32mnot\u001b[0m \u001b[0mno_error\u001b[0m\u001b[0;34m:\u001b[0m\u001b[0;34m\u001b[0m\u001b[0;34m\u001b[0m\u001b[0m\n\u001b[0;32m-> 1023\u001b[0;31m         \u001b[0merror\u001b[0m \u001b[0;34m=\u001b[0m \u001b[0merror_smolyak\u001b[0m\u001b[0;34m(\u001b[0m\u001b[0mf\u001b[0m\u001b[0;34m,\u001b[0m \u001b[0mquadrature\u001b[0m\u001b[0;34m,\u001b[0m \u001b[0mvariables\u001b[0m\u001b[0;34m,\u001b[0m \u001b[0mq\u001b[0m\u001b[0;34m,\u001b[0m \u001b[0mfunction_string_control\u001b[0m\u001b[0;34m)\u001b[0m\u001b[0;34m\u001b[0m\u001b[0;34m\u001b[0m\u001b[0m\n\u001b[0m\u001b[1;32m   1024\u001b[0m     \u001b[0;32melse\u001b[0m\u001b[0;34m:\u001b[0m\u001b[0;34m\u001b[0m\u001b[0;34m\u001b[0m\u001b[0m\n\u001b[1;32m   1025\u001b[0m         \u001b[0merror\u001b[0m \u001b[0;34m=\u001b[0m \u001b[0;34m\"None\"\u001b[0m\u001b[0;34m\u001b[0m\u001b[0;34m\u001b[0m\u001b[0m\n",
      "\u001b[0;32m~/COMP167/Smolyak_qmc/Methodes_Studienproject/Studienprojekt_Smolyak_qmc_one_point.py\u001b[0m in \u001b[0;36merror_smolyak\u001b[0;34m(f, quadrature, variables, q, function_string_error, a, b, give_parameters)\u001b[0m\n\u001b[1;32m    702\u001b[0m                     \u001b[0;32mfor\u001b[0m \u001b[0mk_2\u001b[0m \u001b[0;32min\u001b[0m \u001b[0mrange\u001b[0m\u001b[0;34m(\u001b[0m\u001b[0mlen\u001b[0m\u001b[0;34m(\u001b[0m\u001b[0mrandom_start_points\u001b[0m\u001b[0;34m)\u001b[0m\u001b[0;34m)\u001b[0m\u001b[0;34m:\u001b[0m\u001b[0;34m\u001b[0m\u001b[0;34m\u001b[0m\u001b[0m\n\u001b[1;32m    703\u001b[0m \u001b[0;34m\u001b[0m\u001b[0m\n\u001b[0;32m--> 704\u001b[0;31m                         search_max = scipy.optimize.minimize(callable_derivation[k_1], random_start_points[k_2],\n\u001b[0m\u001b[1;32m    705\u001b[0m                                                              bounds=bound_points)\n\u001b[1;32m    706\u001b[0m                         \u001b[0mmax_point\u001b[0m \u001b[0;34m=\u001b[0m \u001b[0;34m-\u001b[0m\u001b[0mcallable_derivation\u001b[0m\u001b[0;34m[\u001b[0m\u001b[0mk_1\u001b[0m\u001b[0;34m]\u001b[0m\u001b[0;34m(\u001b[0m\u001b[0msearch_max\u001b[0m\u001b[0;34m.\u001b[0m\u001b[0mx\u001b[0m\u001b[0;34m)\u001b[0m\u001b[0;34m\u001b[0m\u001b[0;34m\u001b[0m\u001b[0m\n",
      "\u001b[0;32m~/.local/lib/python3.8/site-packages/scipy/optimize/_minimize.py\u001b[0m in \u001b[0;36mminimize\u001b[0;34m(fun, x0, args, method, jac, hess, hessp, bounds, constraints, tol, callback, options)\u001b[0m\n\u001b[1;32m    615\u001b[0m                                   **options)\n\u001b[1;32m    616\u001b[0m     \u001b[0;32melif\u001b[0m \u001b[0mmeth\u001b[0m \u001b[0;34m==\u001b[0m \u001b[0;34m'l-bfgs-b'\u001b[0m\u001b[0;34m:\u001b[0m\u001b[0;34m\u001b[0m\u001b[0;34m\u001b[0m\u001b[0m\n\u001b[0;32m--> 617\u001b[0;31m         return _minimize_lbfgsb(fun, x0, args, jac, bounds,\n\u001b[0m\u001b[1;32m    618\u001b[0m                                 callback=callback, **options)\n\u001b[1;32m    619\u001b[0m     \u001b[0;32melif\u001b[0m \u001b[0mmeth\u001b[0m \u001b[0;34m==\u001b[0m \u001b[0;34m'tnc'\u001b[0m\u001b[0;34m:\u001b[0m\u001b[0;34m\u001b[0m\u001b[0;34m\u001b[0m\u001b[0m\n",
      "\u001b[0;32m~/.local/lib/python3.8/site-packages/scipy/optimize/lbfgsb.py\u001b[0m in \u001b[0;36m_minimize_lbfgsb\u001b[0;34m(fun, x0, args, jac, bounds, disp, maxcor, ftol, gtol, eps, maxfun, maxiter, iprint, callback, maxls, finite_diff_rel_step, **unknown_options)\u001b[0m\n\u001b[1;32m    304\u001b[0m             \u001b[0miprint\u001b[0m \u001b[0;34m=\u001b[0m \u001b[0mdisp\u001b[0m\u001b[0;34m\u001b[0m\u001b[0;34m\u001b[0m\u001b[0m\n\u001b[1;32m    305\u001b[0m \u001b[0;34m\u001b[0m\u001b[0m\n\u001b[0;32m--> 306\u001b[0;31m     sf = _prepare_scalar_function(fun, x0, jac=jac, args=args, epsilon=eps,\n\u001b[0m\u001b[1;32m    307\u001b[0m                                   \u001b[0mbounds\u001b[0m\u001b[0;34m=\u001b[0m\u001b[0mnew_bounds\u001b[0m\u001b[0;34m,\u001b[0m\u001b[0;34m\u001b[0m\u001b[0;34m\u001b[0m\u001b[0m\n\u001b[1;32m    308\u001b[0m                                   finite_diff_rel_step=finite_diff_rel_step)\n",
      "\u001b[0;32m~/.local/lib/python3.8/site-packages/scipy/optimize/optimize.py\u001b[0m in \u001b[0;36m_prepare_scalar_function\u001b[0;34m(fun, x0, jac, args, bounds, epsilon, finite_diff_rel_step, hess)\u001b[0m\n\u001b[1;32m    259\u001b[0m     \u001b[0;31m# ScalarFunction caches. Reuse of fun(x) during grad\u001b[0m\u001b[0;34m\u001b[0m\u001b[0;34m\u001b[0m\u001b[0;34m\u001b[0m\u001b[0m\n\u001b[1;32m    260\u001b[0m     \u001b[0;31m# calculation reduces overall function evaluations.\u001b[0m\u001b[0;34m\u001b[0m\u001b[0;34m\u001b[0m\u001b[0;34m\u001b[0m\u001b[0m\n\u001b[0;32m--> 261\u001b[0;31m     sf = ScalarFunction(fun, x0, args, grad, hess,\n\u001b[0m\u001b[1;32m    262\u001b[0m                         finite_diff_rel_step, bounds, epsilon=epsilon)\n\u001b[1;32m    263\u001b[0m \u001b[0;34m\u001b[0m\u001b[0m\n",
      "\u001b[0;32m~/.local/lib/python3.8/site-packages/scipy/optimize/_differentiable_functions.py\u001b[0m in \u001b[0;36m__init__\u001b[0;34m(self, fun, x0, args, grad, hess, finite_diff_rel_step, finite_diff_bounds, epsilon)\u001b[0m\n\u001b[1;32m     93\u001b[0m \u001b[0;34m\u001b[0m\u001b[0m\n\u001b[1;32m     94\u001b[0m         \u001b[0mself\u001b[0m\u001b[0;34m.\u001b[0m\u001b[0m_update_grad_impl\u001b[0m \u001b[0;34m=\u001b[0m \u001b[0mupdate_grad\u001b[0m\u001b[0;34m\u001b[0m\u001b[0;34m\u001b[0m\u001b[0m\n\u001b[0;32m---> 95\u001b[0;31m         \u001b[0mself\u001b[0m\u001b[0;34m.\u001b[0m\u001b[0m_update_grad\u001b[0m\u001b[0;34m(\u001b[0m\u001b[0;34m)\u001b[0m\u001b[0;34m\u001b[0m\u001b[0;34m\u001b[0m\u001b[0m\n\u001b[0m\u001b[1;32m     96\u001b[0m \u001b[0;34m\u001b[0m\u001b[0m\n\u001b[1;32m     97\u001b[0m         \u001b[0;31m# Hessian Evaluation\u001b[0m\u001b[0;34m\u001b[0m\u001b[0;34m\u001b[0m\u001b[0;34m\u001b[0m\u001b[0m\n",
      "\u001b[0;32m~/.local/lib/python3.8/site-packages/scipy/optimize/_differentiable_functions.py\u001b[0m in \u001b[0;36m_update_grad\u001b[0;34m(self)\u001b[0m\n\u001b[1;32m    169\u001b[0m     \u001b[0;32mdef\u001b[0m \u001b[0m_update_grad\u001b[0m\u001b[0;34m(\u001b[0m\u001b[0mself\u001b[0m\u001b[0;34m)\u001b[0m\u001b[0;34m:\u001b[0m\u001b[0;34m\u001b[0m\u001b[0;34m\u001b[0m\u001b[0m\n\u001b[1;32m    170\u001b[0m         \u001b[0;32mif\u001b[0m \u001b[0;32mnot\u001b[0m \u001b[0mself\u001b[0m\u001b[0;34m.\u001b[0m\u001b[0mg_updated\u001b[0m\u001b[0;34m:\u001b[0m\u001b[0;34m\u001b[0m\u001b[0;34m\u001b[0m\u001b[0m\n\u001b[0;32m--> 171\u001b[0;31m             \u001b[0mself\u001b[0m\u001b[0;34m.\u001b[0m\u001b[0m_update_grad_impl\u001b[0m\u001b[0;34m(\u001b[0m\u001b[0;34m)\u001b[0m\u001b[0;34m\u001b[0m\u001b[0;34m\u001b[0m\u001b[0m\n\u001b[0m\u001b[1;32m    172\u001b[0m             \u001b[0mself\u001b[0m\u001b[0;34m.\u001b[0m\u001b[0mg_updated\u001b[0m \u001b[0;34m=\u001b[0m \u001b[0;32mTrue\u001b[0m\u001b[0;34m\u001b[0m\u001b[0;34m\u001b[0m\u001b[0m\n\u001b[1;32m    173\u001b[0m \u001b[0;34m\u001b[0m\u001b[0m\n",
      "\u001b[0;32m~/.local/lib/python3.8/site-packages/scipy/optimize/_differentiable_functions.py\u001b[0m in \u001b[0;36mupdate_grad\u001b[0;34m()\u001b[0m\n\u001b[1;32m     89\u001b[0m                 \u001b[0mself\u001b[0m\u001b[0;34m.\u001b[0m\u001b[0m_update_fun\u001b[0m\u001b[0;34m(\u001b[0m\u001b[0;34m)\u001b[0m\u001b[0;34m\u001b[0m\u001b[0;34m\u001b[0m\u001b[0m\n\u001b[1;32m     90\u001b[0m                 \u001b[0mself\u001b[0m\u001b[0;34m.\u001b[0m\u001b[0mngev\u001b[0m \u001b[0;34m+=\u001b[0m \u001b[0;36m1\u001b[0m\u001b[0;34m\u001b[0m\u001b[0;34m\u001b[0m\u001b[0m\n\u001b[0;32m---> 91\u001b[0;31m                 self.g = approx_derivative(fun_wrapped, self.x, f0=self.f,\n\u001b[0m\u001b[1;32m     92\u001b[0m                                            **finite_diff_options)\n\u001b[1;32m     93\u001b[0m \u001b[0;34m\u001b[0m\u001b[0m\n",
      "\u001b[0;32m~/.local/lib/python3.8/site-packages/scipy/optimize/_numdiff.py\u001b[0m in \u001b[0;36mapprox_derivative\u001b[0;34m(fun, x0, method, rel_step, abs_step, f0, bounds, sparsity, as_linear_operator, args, kwargs)\u001b[0m\n\u001b[1;32m    366\u001b[0m     \u001b[0mlb\u001b[0m\u001b[0;34m,\u001b[0m \u001b[0mub\u001b[0m \u001b[0;34m=\u001b[0m \u001b[0m_prepare_bounds\u001b[0m\u001b[0;34m(\u001b[0m\u001b[0mbounds\u001b[0m\u001b[0;34m,\u001b[0m \u001b[0mx0\u001b[0m\u001b[0;34m)\u001b[0m\u001b[0;34m\u001b[0m\u001b[0;34m\u001b[0m\u001b[0m\n\u001b[1;32m    367\u001b[0m \u001b[0;34m\u001b[0m\u001b[0m\n\u001b[0;32m--> 368\u001b[0;31m     \u001b[0;32mif\u001b[0m \u001b[0mlb\u001b[0m\u001b[0;34m.\u001b[0m\u001b[0mshape\u001b[0m \u001b[0;34m!=\u001b[0m \u001b[0mx0\u001b[0m\u001b[0;34m.\u001b[0m\u001b[0mshape\u001b[0m \u001b[0;32mor\u001b[0m \u001b[0mub\u001b[0m\u001b[0;34m.\u001b[0m\u001b[0mshape\u001b[0m \u001b[0;34m!=\u001b[0m \u001b[0mx0\u001b[0m\u001b[0;34m.\u001b[0m\u001b[0mshape\u001b[0m\u001b[0;34m:\u001b[0m\u001b[0;34m\u001b[0m\u001b[0;34m\u001b[0m\u001b[0m\n\u001b[0m\u001b[1;32m    369\u001b[0m         \u001b[0;32mraise\u001b[0m \u001b[0mValueError\u001b[0m\u001b[0;34m(\u001b[0m\u001b[0;34m\"Inconsistent shapes between bounds and `x0`.\"\u001b[0m\u001b[0;34m)\u001b[0m\u001b[0;34m\u001b[0m\u001b[0;34m\u001b[0m\u001b[0m\n\u001b[1;32m    370\u001b[0m \u001b[0;34m\u001b[0m\u001b[0m\n",
      "\u001b[0;31mKeyboardInterrupt\u001b[0m: "
     ]
    }
   ],
   "source": [
    "variables = [\"(x_1)\"]\n",
    "\n",
    "for r in range(2,4)\n",
    "functions = [\"2 * sin(x_\"+str(1)+\"*2*pi)**2\"]\n",
    "option = \"Trapezoidal\"\n",
    "deg_approx = 17\n",
    "max_dim = 7\n",
    "\n",
    "results_example_2= np.empty((max_dim-1, deg_approx, 3))\n",
    "    \n",
    "for dim in range(2,max_dim+1):\n",
    "\n",
    "    variables.append(variables[-1][:-1]+\", x_\"+ str(dim)+\")\")\n",
    "    functions.append(functions[-1]+\"* 2 * sin(x_\"+str(dim)+\"*2*pi)**2 \")\n",
    "    \n",
    "    for q in range(dim,dim+deg_approx):\n",
    "        print(str(dim)+ \"   \" + str(q))\n",
    "        results_example_2[dim-2, q - dim, :] = Studieproject_one.controller_smolyak(functions[-1], variables[-1], option, q, example_2=True)\n",
    "            \n",
    "            \n",
    "results_example_2 = { \"results\": results_example_2}\n",
    "   \n",
    "bearcats.to_pickle(results_example_2,\"approx_per_function.pkl\")\n",
    "\n",
    "print(\"If you want to generate data, remove quotation marks.\")"
   ]
  },
  {
   "cell_type": "code",
   "execution_count": null,
   "metadata": {},
   "outputs": [],
   "source": [
    "# Calculate error as given in Example 15.2.6\n",
    "r = 1\n",
    "\n",
    "scipy.special.bernoulli()"
   ]
  },
  {
   "cell_type": "code",
   "execution_count": 84,
   "metadata": {},
   "outputs": [
    {
     "data": {
      "text/plain": [
       "{'results': array([[[8.997e-064, 2.230e+002, 6.000e+000],\n",
       "         [7.999e-032, 1.099e+002, 2.400e+001],\n",
       "         [1.778e+000, 4.100e+001, 7.200e+001],\n",
       "         ...,\n",
       "         [1.006e+000, 1.061e-001, 6.144e+003],\n",
       "         [1.002e+000, 2.983e-002, 1.382e+004],\n",
       "         [1.000e+000, 8.283e-003, 3.072e+004]],\n",
       " \n",
       "        [[2.699e-095, 5.785e+004, 1.800e+001],\n",
       "         [3.599e-063, 4.316e+004, 1.080e+002],\n",
       "         [1.600e-031, 2.153e+004, 4.320e+002],\n",
       "         ...,\n",
       "         [9.989e-001, 1.256e+002, 8.294e+004],\n",
       "         [9.951e-001, 3.924e+001, 2.074e+005],\n",
       "         [9.957e-001, 1.199e+001, 5.069e+005]],\n",
       " \n",
       "        [[8.095e-127, 6.044e+007, 5.400e+001],\n",
       "         [1.439e-094, 6.032e+007, 4.320e+002],\n",
       "         [9.597e-063, 3.766e+007, 2.160e+003],\n",
       "         ...,\n",
       "         [9.656e-001, 4.403e+005, 8.294e+005],\n",
       "         [9.691e-001, 1.513e+005, 2.281e+006],\n",
       "         [9.802e-001, 5.043e+004, 6.083e+006]]])}"
      ]
     },
     "execution_count": 84,
     "metadata": {},
     "output_type": "execute_result"
    }
   ],
   "source": [
    "results_example_2"
   ]
  },
  {
   "cell_type": "code",
   "execution_count": null,
   "metadata": {},
   "outputs": [],
   "source": []
  }
 ],
 "metadata": {
  "kernelspec": {
   "display_name": "Python 3",
   "language": "python",
   "name": "python3"
  },
  "language_info": {
   "codemirror_mode": {
    "name": "ipython",
    "version": 3
   },
   "file_extension": ".py",
   "mimetype": "text/x-python",
   "name": "python",
   "nbconvert_exporter": "python",
   "pygments_lexer": "ipython3",
   "version": "3.8.6"
  }
 },
 "nbformat": 4,
 "nbformat_minor": 4
}
